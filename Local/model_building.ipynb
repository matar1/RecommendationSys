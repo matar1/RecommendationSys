{
 "cells": [
  {
   "cell_type": "markdown",
   "metadata": {},
   "source": [
    "# Model Building for Food Recommendation\n",
    "\n",
    "We will implement the TF-IDF algorithm"
   ]
  },
  {
   "cell_type": "code",
   "execution_count": null,
   "metadata": {},
   "outputs": [],
   "source": [
    "# Import necessary libraries\n",
    "import pandas as pd\n",
    "import numpy as np\n",
    "import matplotlib.pyplot as plt\n",
    "\n",
    "# Import Gradio for creating web interfaces\n",
    "import gradio as gr\n",
    "\n",
    "# Import TF-IDF Vectorizer and cosine similarity from sklearn\n",
    "from sklearn.feature_extraction.text import TfidfVectorizer\n",
    "from sklearn.metrics.pairwise import cosine_similarity"
   ]
  },
  {
   "cell_type": "code",
   "execution_count": 2,
   "metadata": {},
   "outputs": [],
   "source": [
    "# Read the CSV file containing all dishes into a pandas DataFrame\n",
    "halal = False\n",
    "\n",
    "if halal:\n",
    "    all_dishes = pd.read_csv(\"all_dishes_halal.csv\")\n",
    "else:\n",
    "    all_dishes = pd.read_csv(\"all_dishes.csv\")\n",
    "\n"
   ]
  },
  {
   "cell_type": "markdown",
   "metadata": {},
   "source": [
    "## TF-IDF \n",
    "\n",
    "Term Frequency-Inverse Document Frequency (TF-IDF) for each ingredient. Give higher weights to ingredients that are important for a specific dish but less frequent in others, which might be more useful for recommendation purposes."
   ]
  },
  {
   "cell_type": "code",
   "execution_count": 3,
   "metadata": {},
   "outputs": [],
   "source": [
    "# Initialize the TF-IDF Vectorizer\n",
    "tfid = TfidfVectorizer()\n",
    "\n",
    "# Fit and transform the 'describe' column in the all_dishes DataFrame\n",
    "tfid_matrix = tfid.fit_transform(all_dishes['describe'])"
   ]
  },
  {
   "cell_type": "code",
   "execution_count": null,
   "metadata": {},
   "outputs": [],
   "source": [
    "# Compute the cosine similarity matrix based on the TF-IDF matrix\n",
    "cosine_sim = cosine_similarity(tfid_matrix, tfid_matrix)\n",
    "\n",
    "# Display the cosine similarity matrix\n",
    "cosine_sim"
   ]
  },
  {
   "cell_type": "code",
   "execution_count": null,
   "metadata": {},
   "outputs": [],
   "source": [
    "# Print the shape of the all_dishes DataFrame\n",
    "print(\"Shape of our dishes: \", all_dishes.shape)\n",
    "\n",
    "# Print the shape of the cosine similarity matrix\n",
    "print(\"Shape of cosine similarity matrix: \", cosine_sim.shape)\n",
    "\n",
    "#(723, 723) meaning we have computed a similarity score for each pair of dishes in our dataset."
   ]
  },
  {
   "cell_type": "markdown",
   "metadata": {},
   "source": [
    "## Functions to recommend dishes based on cosine similarity"
   ]
  },
  {
   "cell_type": "code",
   "execution_count": 6,
   "metadata": {},
   "outputs": [],
   "source": [
    "def rank(title, cosine_sim=cosine_sim, dish_matrix=all_dishes):\n",
    "    \"\"\"\n",
    "    Rank the top 5 similar dishes based on cosine similarity.\n",
    "    \n",
    "    Parameters:\n",
    "    title (str): The name of the dish to find similar dishes for.\n",
    "    cosine_sim (numpy.ndarray): A 2D array where each element represents the cosine similarity between dishes.\n",
    "    dish_matrix (pandas.DataFrame): A DataFrame containing dish information, including a 'name' column.\n",
    "    \"\"\"\n",
    "    title = title.lower()  # Convert title to lowercase for case-insensitive matching\n",
    "    idx = dish_matrix.index[dish_matrix['name'] == title].tolist()  # Get the index of the dish\n",
    "    match_food = np.array(cosine_sim[idx[0]])  # Get the cosine similarity scores for the dish\n",
    "    indices = np.argsort(match_food)[-6:][::-1][1:]  # Get the indices of the top 5 similar dishes in descending order\n",
    "    \n",
    "    return indices\n",
    "\n",
    "def print_similar_dishes(title, indices=None, dish_matrix=all_dishes):\n",
    "    indices = rank(title, cosine_sim=cosine_sim, dish_matrix=all_dishes)  # Get the indices of similar dishes\n",
    "    print(\"Top 5 similar dishes to\", title, \"are:\")\n",
    "    for i in range(len(indices)):\n",
    "        print(i + 1, \". \", dish_matrix['name'].iloc[indices[i]])  # Print the names of the similar dishes\n",
    "\n",
    "def rank_for_gradio(title):\n",
    "    indices = rank(title)  # Get the indices of similar dishes\n",
    "    similar_dishes = [all_dishes.iloc[i]['name'] for i in indices]  # Get the names of the similar dishes\n",
    "    formatted_dishes = \"\\n\".join([f\"{i + 1}. {dish}\" for i, dish in enumerate(similar_dishes)])  # Format the output\n",
    "    return formatted_dishes\n"
   ]
  },
  {
   "cell_type": "markdown",
   "metadata": {},
   "source": [
    "### Testing the results"
   ]
  },
  {
   "cell_type": "code",
   "execution_count": null,
   "metadata": {},
   "outputs": [],
   "source": [
    "print_similar_dishes('Shawarma', all_dishes)"
   ]
  },
  {
   "cell_type": "code",
   "execution_count": null,
   "metadata": {},
   "outputs": [],
   "source": [
    "print_similar_dishes('crispy herb chicken', all_dishes)"
   ]
  },
  {
   "cell_type": "code",
   "execution_count": null,
   "metadata": {},
   "outputs": [],
   "source": [
    "print_similar_dishes('Pho Chay Soup', all_dishes)"
   ]
  },
  {
   "cell_type": "code",
   "execution_count": null,
   "metadata": {},
   "outputs": [],
   "source": [
    "print_similar_dishes('Kale Caesar Salad', all_dishes)"
   ]
  },
  {
   "cell_type": "code",
   "execution_count": null,
   "metadata": {},
   "outputs": [],
   "source": [
    "print_similar_dishes('Adhirasam', all_dishes)"
   ]
  },
  {
   "cell_type": "markdown",
   "metadata": {},
   "source": [
    "## Create a Gradio interface"
   ]
  },
  {
   "cell_type": "code",
   "execution_count": 27,
   "metadata": {},
   "outputs": [],
   "source": [
    "# Setup Gradio interface\n",
    "#css_code = \".gradio-container {background: url(https://cdn.pixabay.com/photo/2024/06/22/08/07/ai-generated-8845695_1280.jpg)}\"\n",
    "# css_code = \".gradio-container {background: url(https://img.freepik.com/free-photo/elevated-view-ingredients-dryfruits-vegetables-black-background_23-2148026898.jpg?w=1480&t=st=1727902059~exp=1727902659~hmac=4f7f4e8f697f78d214ab8f9ee921baa16a01f17683c9b1f44779effcdb546ef9)}\"\n",
    "\n",
    "# iface = gr.Interface(\n",
    "#     fn=rank_for_gradio,\n",
    "#     inputs=gr.Dropdown(list(all_dishes[\"name\"]), label=\"Choose a Dish\"),\n",
    "#     outputs=gr.Text(label=\"Top 5 Similar Dishes that you might like\"),\n",
    "#     title=\"Personalized Dish Recommender\",\n",
    "#     description=\"Select a dish to find the top 5 similar dishes based on their descriptions.\",\n",
    "#     css=css_code,\n",
    "# )\n",
    "css_code = \"\"\"\n",
    ".gradio-container {\n",
    "    background: url(https://cdn.pixabay.com/photo/2024/06/22/08/07/ai-generated-8845695_1280.jpg);\n",
    "}\n",
    "\n",
    "/* Styling for the title and description box */\n",
    ".title-desc-box {\n",
    "    background-color: #f8f9fa;  /* Light grey background */\n",
    "    border: 1px solid #dee2e6;  /* Grey border */\n",
    "    border-radius: 10px;        /* Rounded corners */\n",
    "    padding: 20px;              /* Padding around text */\n",
    "    margin: 20px;               /* Margin around the box */\n",
    "}\n",
    "\n",
    "/* Custom title styling */\n",
    "h1, h2 {\n",
    "    color: #333;                /* Dark grey text color */\n",
    "    text-align: center;         /* Center-align text */\n",
    "}\n",
    "\n",
    "/* Custom description styling */\n",
    "p {\n",
    "    color: #555;                /* Medium grey text color */\n",
    "    font-size: 16px;            /* Larger font size */\n",
    "}\n",
    "\"\"\"\n",
    "\n",
    "# Interface initialization with modified css\n",
    "iface = gr.Interface(\n",
    "    fn=rank_for_gradio,\n",
    "    inputs=gr.Dropdown(list(all_dishes[\"name\"]), label=\"Choose a Dish\"),\n",
    "    outputs=gr.Text(label=\"Top 5 Similar Dishes that you might like\"),\n",
    "    title=\"<div class='title-desc-box'><h1>Personalized Dish Recommender</h1><p>Select a dish to find the top 5 similar dishes based on their descriptions.</p></div>\",\n",
    "    description=\"\",\n",
    "    css=css_code,\n",
    ")\n"
   ]
  },
  {
   "cell_type": "code",
   "execution_count": null,
   "metadata": {},
   "outputs": [],
   "source": [
    "# Launch the Gradio interface with sharing enabled\n",
    "iface.launch(share=True)"
   ]
  }
 ],
 "metadata": {
  "kernelspec": {
   "display_name": "langchainllm",
   "language": "python",
   "name": "python3"
  },
  "language_info": {
   "codemirror_mode": {
    "name": "ipython",
    "version": 3
   },
   "file_extension": ".py",
   "mimetype": "text/x-python",
   "name": "python",
   "nbconvert_exporter": "python",
   "pygments_lexer": "ipython3",
   "version": "3.11.4"
  }
 },
 "nbformat": 4,
 "nbformat_minor": 2
}
